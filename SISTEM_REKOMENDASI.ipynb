{
  "nbformat": 4,
  "nbformat_minor": 0,
  "metadata": {
    "colab": {
      "name": "SISTEM REKOMENDASI.ipynb",
      "provenance": [],
      "collapsed_sections": []
    },
    "kernelspec": {
      "name": "python3",
      "display_name": "Python 3"
    },
    "language_info": {
      "name": "python"
    },
    "accelerator": "GPU"
  },
  "cells": [
    {
      "cell_type": "markdown",
      "source": [
        "## IMPORT LIBRARY"
      ],
      "metadata": {
        "id": "hpnO0Ebk0UWZ"
      }
    },
    {
      "cell_type": "code",
      "execution_count": 2,
      "metadata": {
        "id": "sEDg4bmRXjX6"
      },
      "outputs": [],
      "source": [
        "import pandas as pd\n",
        "import tensorflow as tf\n",
        "import numpy as np\n",
        "from tensorflow import keras\n",
        "from tensorflow.keras import layers\n",
        "from tensorflow.keras.layers import Embedding \n",
        "from sklearn.model_selection import train_test_split\n",
        "import matplotlib.pyplot as plt\n",
        "import seaborn as sns"
      ]
    },
    {
      "cell_type": "markdown",
      "source": [
        "Pembacaan data baik file rating dan file movie "
      ],
      "metadata": {
        "id": "nnJeQ_01cNCg"
      }
    },
    {
      "cell_type": "code",
      "source": [
        "rating = pd.read_csv('/content/sample_data/ratings.csv')"
      ],
      "metadata": {
        "id": "oz-CJnlJk4Sg"
      },
      "execution_count": 3,
      "outputs": []
    },
    {
      "cell_type": "code",
      "source": [
        "movie = pd.read_csv('/content/sample_data/movies.csv')"
      ],
      "metadata": {
        "id": "-oQg9spOk-3i"
      },
      "execution_count": 4,
      "outputs": []
    },
    {
      "cell_type": "markdown",
      "source": [
        "### Data Understanding"
      ],
      "metadata": {
        "id": "9-26Zw7N5Syu"
      }
    },
    {
      "cell_type": "code",
      "source": [
        "rating.info()"
      ],
      "metadata": {
        "colab": {
          "base_uri": "https://localhost:8080/"
        },
        "id": "aCOODqHNk72Q",
        "outputId": "364816e6-a780-4edb-ae0a-b2390520fd11"
      },
      "execution_count": 5,
      "outputs": [
        {
          "output_type": "stream",
          "name": "stdout",
          "text": [
            "<class 'pandas.core.frame.DataFrame'>\n",
            "RangeIndex: 105339 entries, 0 to 105338\n",
            "Data columns (total 4 columns):\n",
            " #   Column     Non-Null Count   Dtype  \n",
            "---  ------     --------------   -----  \n",
            " 0   userId     105339 non-null  int64  \n",
            " 1   movieId    105339 non-null  int64  \n",
            " 2   rating     105339 non-null  float64\n",
            " 3   timestamp  105339 non-null  int64  \n",
            "dtypes: float64(1), int64(3)\n",
            "memory usage: 3.2 MB\n"
          ]
        }
      ]
    },
    {
      "cell_type": "code",
      "source": [
        "movie.info()"
      ],
      "metadata": {
        "colab": {
          "base_uri": "https://localhost:8080/"
        },
        "id": "PAF9RjdqlCDr",
        "outputId": "4d6c1a1d-59ca-4ffb-87ca-9f96ed634f3f"
      },
      "execution_count": 6,
      "outputs": [
        {
          "output_type": "stream",
          "name": "stdout",
          "text": [
            "<class 'pandas.core.frame.DataFrame'>\n",
            "RangeIndex: 10329 entries, 0 to 10328\n",
            "Data columns (total 3 columns):\n",
            " #   Column   Non-Null Count  Dtype \n",
            "---  ------   --------------  ----- \n",
            " 0   movieId  10329 non-null  int64 \n",
            " 1   title    10329 non-null  object\n",
            " 2   genres   10329 non-null  object\n",
            "dtypes: int64(1), object(2)\n",
            "memory usage: 242.2+ KB\n"
          ]
        }
      ]
    },
    {
      "cell_type": "code",
      "source": [
        "rating.describe()"
      ],
      "metadata": {
        "colab": {
          "base_uri": "https://localhost:8080/",
          "height": 300
        },
        "id": "BKGksg5XlEx5",
        "outputId": "3be837e0-9839-4185-c28e-ed7fa6e03225"
      },
      "execution_count": 7,
      "outputs": [
        {
          "output_type": "execute_result",
          "data": {
            "text/plain": [
              "              userId        movieId         rating     timestamp\n",
              "count  105339.000000  105339.000000  105339.000000  1.053390e+05\n",
              "mean      364.924539   13381.312477       3.516850  1.130424e+09\n",
              "std       197.486905   26170.456869       1.044872  1.802660e+08\n",
              "min         1.000000       1.000000       0.500000  8.285650e+08\n",
              "25%       192.000000    1073.000000       3.000000  9.711008e+08\n",
              "50%       383.000000    2497.000000       3.500000  1.115154e+09\n",
              "75%       557.000000    5991.000000       4.000000  1.275496e+09\n",
              "max       668.000000  149532.000000       5.000000  1.452405e+09"
            ],
            "text/html": [
              "\n",
              "  <div id=\"df-d70cb8ad-9fd7-491a-af13-faa127ec2fe2\">\n",
              "    <div class=\"colab-df-container\">\n",
              "      <div>\n",
              "<style scoped>\n",
              "    .dataframe tbody tr th:only-of-type {\n",
              "        vertical-align: middle;\n",
              "    }\n",
              "\n",
              "    .dataframe tbody tr th {\n",
              "        vertical-align: top;\n",
              "    }\n",
              "\n",
              "    .dataframe thead th {\n",
              "        text-align: right;\n",
              "    }\n",
              "</style>\n",
              "<table border=\"1\" class=\"dataframe\">\n",
              "  <thead>\n",
              "    <tr style=\"text-align: right;\">\n",
              "      <th></th>\n",
              "      <th>userId</th>\n",
              "      <th>movieId</th>\n",
              "      <th>rating</th>\n",
              "      <th>timestamp</th>\n",
              "    </tr>\n",
              "  </thead>\n",
              "  <tbody>\n",
              "    <tr>\n",
              "      <th>count</th>\n",
              "      <td>105339.000000</td>\n",
              "      <td>105339.000000</td>\n",
              "      <td>105339.000000</td>\n",
              "      <td>1.053390e+05</td>\n",
              "    </tr>\n",
              "    <tr>\n",
              "      <th>mean</th>\n",
              "      <td>364.924539</td>\n",
              "      <td>13381.312477</td>\n",
              "      <td>3.516850</td>\n",
              "      <td>1.130424e+09</td>\n",
              "    </tr>\n",
              "    <tr>\n",
              "      <th>std</th>\n",
              "      <td>197.486905</td>\n",
              "      <td>26170.456869</td>\n",
              "      <td>1.044872</td>\n",
              "      <td>1.802660e+08</td>\n",
              "    </tr>\n",
              "    <tr>\n",
              "      <th>min</th>\n",
              "      <td>1.000000</td>\n",
              "      <td>1.000000</td>\n",
              "      <td>0.500000</td>\n",
              "      <td>8.285650e+08</td>\n",
              "    </tr>\n",
              "    <tr>\n",
              "      <th>25%</th>\n",
              "      <td>192.000000</td>\n",
              "      <td>1073.000000</td>\n",
              "      <td>3.000000</td>\n",
              "      <td>9.711008e+08</td>\n",
              "    </tr>\n",
              "    <tr>\n",
              "      <th>50%</th>\n",
              "      <td>383.000000</td>\n",
              "      <td>2497.000000</td>\n",
              "      <td>3.500000</td>\n",
              "      <td>1.115154e+09</td>\n",
              "    </tr>\n",
              "    <tr>\n",
              "      <th>75%</th>\n",
              "      <td>557.000000</td>\n",
              "      <td>5991.000000</td>\n",
              "      <td>4.000000</td>\n",
              "      <td>1.275496e+09</td>\n",
              "    </tr>\n",
              "    <tr>\n",
              "      <th>max</th>\n",
              "      <td>668.000000</td>\n",
              "      <td>149532.000000</td>\n",
              "      <td>5.000000</td>\n",
              "      <td>1.452405e+09</td>\n",
              "    </tr>\n",
              "  </tbody>\n",
              "</table>\n",
              "</div>\n",
              "      <button class=\"colab-df-convert\" onclick=\"convertToInteractive('df-d70cb8ad-9fd7-491a-af13-faa127ec2fe2')\"\n",
              "              title=\"Convert this dataframe to an interactive table.\"\n",
              "              style=\"display:none;\">\n",
              "        \n",
              "  <svg xmlns=\"http://www.w3.org/2000/svg\" height=\"24px\"viewBox=\"0 0 24 24\"\n",
              "       width=\"24px\">\n",
              "    <path d=\"M0 0h24v24H0V0z\" fill=\"none\"/>\n",
              "    <path d=\"M18.56 5.44l.94 2.06.94-2.06 2.06-.94-2.06-.94-.94-2.06-.94 2.06-2.06.94zm-11 1L8.5 8.5l.94-2.06 2.06-.94-2.06-.94L8.5 2.5l-.94 2.06-2.06.94zm10 10l.94 2.06.94-2.06 2.06-.94-2.06-.94-.94-2.06-.94 2.06-2.06.94z\"/><path d=\"M17.41 7.96l-1.37-1.37c-.4-.4-.92-.59-1.43-.59-.52 0-1.04.2-1.43.59L10.3 9.45l-7.72 7.72c-.78.78-.78 2.05 0 2.83L4 21.41c.39.39.9.59 1.41.59.51 0 1.02-.2 1.41-.59l7.78-7.78 2.81-2.81c.8-.78.8-2.07 0-2.86zM5.41 20L4 18.59l7.72-7.72 1.47 1.35L5.41 20z\"/>\n",
              "  </svg>\n",
              "      </button>\n",
              "      \n",
              "  <style>\n",
              "    .colab-df-container {\n",
              "      display:flex;\n",
              "      flex-wrap:wrap;\n",
              "      gap: 12px;\n",
              "    }\n",
              "\n",
              "    .colab-df-convert {\n",
              "      background-color: #E8F0FE;\n",
              "      border: none;\n",
              "      border-radius: 50%;\n",
              "      cursor: pointer;\n",
              "      display: none;\n",
              "      fill: #1967D2;\n",
              "      height: 32px;\n",
              "      padding: 0 0 0 0;\n",
              "      width: 32px;\n",
              "    }\n",
              "\n",
              "    .colab-df-convert:hover {\n",
              "      background-color: #E2EBFA;\n",
              "      box-shadow: 0px 1px 2px rgba(60, 64, 67, 0.3), 0px 1px 3px 1px rgba(60, 64, 67, 0.15);\n",
              "      fill: #174EA6;\n",
              "    }\n",
              "\n",
              "    [theme=dark] .colab-df-convert {\n",
              "      background-color: #3B4455;\n",
              "      fill: #D2E3FC;\n",
              "    }\n",
              "\n",
              "    [theme=dark] .colab-df-convert:hover {\n",
              "      background-color: #434B5C;\n",
              "      box-shadow: 0px 1px 3px 1px rgba(0, 0, 0, 0.15);\n",
              "      filter: drop-shadow(0px 1px 2px rgba(0, 0, 0, 0.3));\n",
              "      fill: #FFFFFF;\n",
              "    }\n",
              "  </style>\n",
              "\n",
              "      <script>\n",
              "        const buttonEl =\n",
              "          document.querySelector('#df-d70cb8ad-9fd7-491a-af13-faa127ec2fe2 button.colab-df-convert');\n",
              "        buttonEl.style.display =\n",
              "          google.colab.kernel.accessAllowed ? 'block' : 'none';\n",
              "\n",
              "        async function convertToInteractive(key) {\n",
              "          const element = document.querySelector('#df-d70cb8ad-9fd7-491a-af13-faa127ec2fe2');\n",
              "          const dataTable =\n",
              "            await google.colab.kernel.invokeFunction('convertToInteractive',\n",
              "                                                     [key], {});\n",
              "          if (!dataTable) return;\n",
              "\n",
              "          const docLinkHtml = 'Like what you see? Visit the ' +\n",
              "            '<a target=\"_blank\" href=https://colab.research.google.com/notebooks/data_table.ipynb>data table notebook</a>'\n",
              "            + ' to learn more about interactive tables.';\n",
              "          element.innerHTML = '';\n",
              "          dataTable['output_type'] = 'display_data';\n",
              "          await google.colab.output.renderOutput(dataTable, element);\n",
              "          const docLink = document.createElement('div');\n",
              "          docLink.innerHTML = docLinkHtml;\n",
              "          element.appendChild(docLink);\n",
              "        }\n",
              "      </script>\n",
              "    </div>\n",
              "  </div>\n",
              "  "
            ]
          },
          "metadata": {},
          "execution_count": 7
        }
      ]
    },
    {
      "cell_type": "markdown",
      "source": [
        "Pembuatan bar plot untuk melihat banyaknya data pengguna dan banyaknya data film"
      ],
      "metadata": {
        "id": "gdo8eQNdcTQj"
      }
    },
    {
      "cell_type": "code",
      "source": [
        "plt.bar(['user','movie'],[len(rating.userId.unique()),len(movie.movieId.unique())])"
      ],
      "metadata": {
        "colab": {
          "base_uri": "https://localhost:8080/",
          "height": 284
        },
        "id": "8D6l5U0naQB2",
        "outputId": "092a0f1a-fa1a-4cd6-f9ee-9c3758589865"
      },
      "execution_count": 8,
      "outputs": [
        {
          "output_type": "execute_result",
          "data": {
            "text/plain": [
              "<BarContainer object of 2 artists>"
            ]
          },
          "metadata": {},
          "execution_count": 8
        },
        {
          "output_type": "display_data",
          "data": {
            "text/plain": [
              "<Figure size 432x288 with 1 Axes>"
            ],
            "image/png": "[encoded data removed]"
          },
          "metadata": {
            "needs_background": "light"
          }
        }
      ]
    },
    {
      "cell_type": "markdown",
      "source": [
        "### Data Preparation"
      ],
      "metadata": {
        "id": "c8QF9g-T5bMU"
      }
    },
    {
      "cell_type": "markdown",
      "source": [
        "#### Normalisasi"
      ],
      "metadata": {
        "id": "AmWiw84_5g3J"
      }
    },
    {
      "cell_type": "markdown",
      "source": [
        "melakukan normalisasi data ke 1 dikarenakan perkalian dot menghasilkan nilai dari 0 sampai 1"
      ],
      "metadata": {
        "id": "9NQjqtaccX-P"
      }
    },
    {
      "cell_type": "code",
      "source": [
        "rating['rating'] = (rating['rating'] - rating['rating'].min())/(rating['rating'].max()-rating['rating'].min())"
      ],
      "metadata": {
        "id": "SUJnbceel0e3"
      },
      "execution_count": 9,
      "outputs": []
    },
    {
      "cell_type": "markdown",
      "source": [
        "melihat nilai min dan max apakah sudah berhasil dinormalisasi atau belum"
      ],
      "metadata": {
        "id": "XKvhr-oaccyN"
      }
    },
    {
      "cell_type": "code",
      "source": [
        "rating.describe()"
      ],
      "metadata": {
        "colab": {
          "base_uri": "https://localhost:8080/",
          "height": 300
        },
        "id": "GtRQvLjVmAlu",
        "outputId": "bfe77e6a-f0ed-4c7e-bd14-7315c8d6cd89"
      },
      "execution_count": 10,
      "outputs": [
        {
          "output_type": "execute_result",
          "data": {
            "text/plain": [
              "              userId        movieId         rating     timestamp\n",
              "count  105339.000000  105339.000000  105339.000000  1.053390e+05\n",
              "mean      364.924539   13381.312477       0.670411  1.130424e+09\n",
              "std       197.486905   26170.456869       0.232194  1.802660e+08\n",
              "min         1.000000       1.000000       0.000000  8.285650e+08\n",
              "25%       192.000000    1073.000000       0.555556  9.711008e+08\n",
              "50%       383.000000    2497.000000       0.666667  1.115154e+09\n",
              "75%       557.000000    5991.000000       0.777778  1.275496e+09\n",
              "max       668.000000  149532.000000       1.000000  1.452405e+09"
            ],
            "text/html": [
              "\n",
              "  <div id=\"df-420ed0e7-06b4-4fa6-95ea-1ec9890804e9\">\n",
              "    <div class=\"colab-df-container\">\n",
              "      <div>\n",
              "<style scoped>\n",
              "    .dataframe tbody tr th:only-of-type {\n",
              "        vertical-align: middle;\n",
              "    }\n",
              "\n",
              "    .dataframe tbody tr th {\n",
              "        vertical-align: top;\n",
              "    }\n",
              "\n",
              "    .dataframe thead th {\n",
              "        text-align: right;\n",
              "    }\n",
              "</style>\n",
              "<table border=\"1\" class=\"dataframe\">\n",
              "  <thead>\n",
              "    <tr style=\"text-align: right;\">\n",
              "      <th></th>\n",
              "      <th>userId</th>\n",
              "      <th>movieId</th>\n",
              "      <th>rating</th>\n",
              "      <th>timestamp</th>\n",
              "    </tr>\n",
              "  </thead>\n",
              "  <tbody>\n",
              "    <tr>\n",
              "      <th>count</th>\n",
              "      <td>105339.000000</td>\n",
              "      <td>105339.000000</td>\n",
              "      <td>105339.000000</td>\n",
              "      <td>1.053390e+05</td>\n",
              "    </tr>\n",
              "    <tr>\n",
              "      <th>mean</th>\n",
              "      <td>364.924539</td>\n",
              "      <td>13381.312477</td>\n",
              "      <td>0.670411</td>\n",
              "      <td>1.130424e+09</td>\n",
              "    </tr>\n",
              "    <tr>\n",
              "      <th>std</th>\n",
              "      <td>197.486905</td>\n",
              "      <td>26170.456869</td>\n",
              "      <td>0.232194</td>\n",
              "      <td>1.802660e+08</td>\n",
              "    </tr>\n",
              "    <tr>\n",
              "      <th>min</th>\n",
              "      <td>1.000000</td>\n",
              "      <td>1.000000</td>\n",
              "      <td>0.000000</td>\n",
              "      <td>8.285650e+08</td>\n",
              "    </tr>\n",
              "    <tr>\n",
              "      <th>25%</th>\n",
              "      <td>192.000000</td>\n",
              "      <td>1073.000000</td>\n",
              "      <td>0.555556</td>\n",
              "      <td>9.711008e+08</td>\n",
              "    </tr>\n",
              "    <tr>\n",
              "      <th>50%</th>\n",
              "      <td>383.000000</td>\n",
              "      <td>2497.000000</td>\n",
              "      <td>0.666667</td>\n",
              "      <td>1.115154e+09</td>\n",
              "    </tr>\n",
              "    <tr>\n",
              "      <th>75%</th>\n",
              "      <td>557.000000</td>\n",
              "      <td>5991.000000</td>\n",
              "      <td>0.777778</td>\n",
              "      <td>1.275496e+09</td>\n",
              "    </tr>\n",
              "    <tr>\n",
              "      <th>max</th>\n",
              "      <td>668.000000</td>\n",
              "      <td>149532.000000</td>\n",
              "      <td>1.000000</td>\n",
              "      <td>1.452405e+09</td>\n",
              "    </tr>\n",
              "  </tbody>\n",
              "</table>\n",
              "</div>\n",
              "      <button class=\"colab-df-convert\" onclick=\"convertToInteractive('df-420ed0e7-06b4-4fa6-95ea-1ec9890804e9')\"\n",
              "              title=\"Convert this dataframe to an interactive table.\"\n",
              "              style=\"display:none;\">\n",
              "        \n",
              "  <svg xmlns=\"http://www.w3.org/2000/svg\" height=\"24px\"viewBox=\"0 0 24 24\"\n",
              "       width=\"24px\">\n",
              "    <path d=\"M0 0h24v24H0V0z\" fill=\"none\"/>\n",
              "    <path d=\"M18.56 5.44l.94 2.06.94-2.06 2.06-.94-2.06-.94-.94-2.06-.94 2.06-2.06.94zm-11 1L8.5 8.5l.94-2.06 2.06-.94-2.06-.94L8.5 2.5l-.94 2.06-2.06.94zm10 10l.94 2.06.94-2.06 2.06-.94-2.06-.94-.94-2.06-.94 2.06-2.06.94z\"/><path d=\"M17.41 7.96l-1.37-1.37c-.4-.4-.92-.59-1.43-.59-.52 0-1.04.2-1.43.59L10.3 9.45l-7.72 7.72c-.78.78-.78 2.05 0 2.83L4 21.41c.39.39.9.59 1.41.59.51 0 1.02-.2 1.41-.59l7.78-7.78 2.81-2.81c.8-.78.8-2.07 0-2.86zM5.41 20L4 18.59l7.72-7.72 1.47 1.35L5.41 20z\"/>\n",
              "  </svg>\n",
              "      </button>\n",
              "      \n",
              "  <style>\n",
              "    .colab-df-container {\n",
              "      display:flex;\n",
              "      flex-wrap:wrap;\n",
              "      gap: 12px;\n",
              "    }\n",
              "\n",
              "    .colab-df-convert {\n",
              "      background-color: #E8F0FE;\n",
              "      border: none;\n",
              "      border-radius: 50%;\n",
              "      cursor: pointer;\n",
              "      display: none;\n",
              "      fill: #1967D2;\n",
              "      height: 32px;\n",
              "      padding: 0 0 0 0;\n",
              "      width: 32px;\n",
              "    }\n",
              "\n",
              "    .colab-df-convert:hover {\n",
              "      background-color: #E2EBFA;\n",
              "      box-shadow: 0px 1px 2px rgba(60, 64, 67, 0.3), 0px 1px 3px 1px rgba(60, 64, 67, 0.15);\n",
              "      fill: #174EA6;\n",
              "    }\n",
              "\n",
              "    [theme=dark] .colab-df-convert {\n",
              "      background-color: #3B4455;\n",
              "      fill: #D2E3FC;\n",
              "    }\n",
              "\n",
              "    [theme=dark] .colab-df-convert:hover {\n",
              "      background-color: #434B5C;\n",
              "      box-shadow: 0px 1px 3px 1px rgba(0, 0, 0, 0.15);\n",
              "      filter: drop-shadow(0px 1px 2px rgba(0, 0, 0, 0.3));\n",
              "      fill: #FFFFFF;\n",
              "    }\n",
              "  </style>\n",
              "\n",
              "      <script>\n",
              "        const buttonEl =\n",
              "          document.querySelector('#df-420ed0e7-06b4-4fa6-95ea-1ec9890804e9 button.colab-df-convert');\n",
              "        buttonEl.style.display =\n",
              "          google.colab.kernel.accessAllowed ? 'block' : 'none';\n",
              "\n",
              "        async function convertToInteractive(key) {\n",
              "          const element = document.querySelector('#df-420ed0e7-06b4-4fa6-95ea-1ec9890804e9');\n",
              "          const dataTable =\n",
              "            await google.colab.kernel.invokeFunction('convertToInteractive',\n",
              "                                                     [key], {});\n",
              "          if (!dataTable) return;\n",
              "\n",
              "          const docLinkHtml = 'Like what you see? Visit the ' +\n",
              "            '<a target=\"_blank\" href=https://colab.research.google.com/notebooks/data_table.ipynb>data table notebook</a>'\n",
              "            + ' to learn more about interactive tables.';\n",
              "          element.innerHTML = '';\n",
              "          dataTable['output_type'] = 'display_data';\n",
              "          await google.colab.output.renderOutput(dataTable, element);\n",
              "          const docLink = document.createElement('div');\n",
              "          docLink.innerHTML = docLinkHtml;\n",
              "          element.appendChild(docLink);\n",
              "        }\n",
              "      </script>\n",
              "    </div>\n",
              "  </div>\n",
              "  "
            ]
          },
          "metadata": {},
          "execution_count": 10
        }
      ]
    },
    {
      "cell_type": "markdown",
      "source": [
        "#### One Hot Encoding"
      ],
      "metadata": {
        "id": "TT5Qu_7U5io9"
      }
    },
    {
      "cell_type": "code",
      "source": [
        "movie = pd.concat([movie,movie.genres.str.get_dummies('|')],axis=1)"
      ],
      "metadata": {
        "id": "TUqKZ3MtpelR"
      },
      "execution_count": 11,
      "outputs": []
    },
    {
      "cell_type": "code",
      "source": [
        "movie = movie[movie['(no genres listed)']==0]"
      ],
      "metadata": {
        "id": "83KPuuXw0O02"
      },
      "execution_count": 12,
      "outputs": []
    },
    {
      "cell_type": "markdown",
      "source": [
        "#### Penggabungan Data"
      ],
      "metadata": {
        "id": "j4esODhc5ou_"
      }
    },
    {
      "cell_type": "code",
      "source": [
        "data = rating.merge(movie,on=['movieId'],how='left')"
      ],
      "metadata": {
        "id": "BDY1fxrp2SdO"
      },
      "execution_count": 13,
      "outputs": []
    },
    {
      "cell_type": "code",
      "source": [
        "dataSiap = data[['userId','movieId','rating']]"
      ],
      "metadata": {
        "id": "HIyNNMm-22iM"
      },
      "execution_count": 14,
      "outputs": []
    },
    {
      "cell_type": "code",
      "source": [
        "dataSiap.info()"
      ],
      "metadata": {
        "colab": {
          "base_uri": "https://localhost:8080/"
        },
        "id": "wfIXkcgu48Fx",
        "outputId": "c2ecb44e-2e07-47c5-9908-87347d017fc9"
      },
      "execution_count": 15,
      "outputs": [
        {
          "output_type": "stream",
          "name": "stdout",
          "text": [
            "<class 'pandas.core.frame.DataFrame'>\n",
            "Int64Index: 105339 entries, 0 to 105338\n",
            "Data columns (total 3 columns):\n",
            " #   Column   Non-Null Count   Dtype  \n",
            "---  ------   --------------   -----  \n",
            " 0   userId   105339 non-null  int64  \n",
            " 1   movieId  105339 non-null  int64  \n",
            " 2   rating   105339 non-null  float64\n",
            "dtypes: float64(1), int64(2)\n",
            "memory usage: 3.2 MB\n"
          ]
        }
      ]
    },
    {
      "cell_type": "code",
      "source": [
        "num_user = dataSiap['userId'].unique().max()"
      ],
      "metadata": {
        "id": "RWrK0TqE9mBc"
      },
      "execution_count": 16,
      "outputs": []
    },
    {
      "cell_type": "code",
      "source": [
        "num_movie = dataSiap['movieId'].unique().max()"
      ],
      "metadata": {
        "id": "XmoJ8Bcz9v5i"
      },
      "execution_count": 17,
      "outputs": []
    },
    {
      "cell_type": "markdown",
      "source": [
        "data userId dan movie Id dimulai dari 1 maka perlu dikurangi 1 sehingga data bermulai dari index 0 "
      ],
      "metadata": {
        "id": "0lQ4xzQ1ciYV"
      }
    },
    {
      "cell_type": "code",
      "source": [
        "dataSiap['userId'] = dataSiap['userId']-1 "
      ],
      "metadata": {
        "id": "_cd4fZXkASiR"
      },
      "execution_count": null,
      "outputs": []
    },
    {
      "cell_type": "code",
      "source": [
        "dataSiap['movieId'] = dataSiap['movieId']-1 "
      ],
      "metadata": {
        "id": "lRB7JxWGAXIH"
      },
      "execution_count": null,
      "outputs": []
    },
    {
      "cell_type": "markdown",
      "source": [
        "#### Split data"
      ],
      "metadata": {
        "id": "xv_KG9kM9NOd"
      }
    },
    {
      "cell_type": "code",
      "source": [
        "X_train,X_test,Y_train,Y_test = train_test_split(dataSiap[['userId','movieId']],dataSiap['rating'],test_size=0.1,random_state=42)"
      ],
      "metadata": {
        "id": "cRAjz4Jm9Phj"
      },
      "execution_count": 20,
      "outputs": []
    },
    {
      "cell_type": "markdown",
      "source": [
        "### Modelling"
      ],
      "metadata": {
        "id": "CORp7Xst0TuM"
      }
    },
    {
      "cell_type": "code",
      "source": [
        "class RecommenderNet(tf.keras.Model):\n",
        " \n",
        "  # Insialisasi fungsi\n",
        "  def __init__(self, num_users, num_resto, embedding_size, **kwargs):\n",
        "    super(RecommenderNet, self).__init__(**kwargs)\n",
        "    self.num_users = num_users\n",
        "    self.num_movie = num_movie\n",
        "    self.embedding_size = embedding_size\n",
        "    self.user_embedding = layers.Embedding( # layer embedding user\n",
        "        num_users,\n",
        "        embedding_size,\n",
        "        embeddings_initializer = 'he_normal',\n",
        "        embeddings_regularizer = keras.regularizers.l2(1e-6)\n",
        "    )\n",
        "    self.user_bias = layers.Embedding(num_users, 1) \n",
        "    self.resto_embedding = layers.Embedding( \n",
        "        num_resto,\n",
        "        embedding_size,\n",
        "        embeddings_initializer = 'he_normal',\n",
        "        embeddings_regularizer = keras.regularizers.l2(1e-6)\n",
        "    )\n",
        "    self.resto_bias = layers.Embedding(num_resto, 1) \n",
        " \n",
        "  def call(self, inputs):\n",
        "    user_vector = self.user_embedding(inputs[:,0]) \n",
        "    user_bias = self.user_bias(inputs[:, 0])\n",
        "    resto_vector = self.resto_embedding(inputs[:, 1]) \n",
        "    resto_bias = self.resto_bias(inputs[:, 1])\n",
        " \n",
        "    dot_user_resto = tf.tensordot(user_vector, resto_vector, 2) \n",
        " \n",
        "    x = dot_user_resto + user_bias + resto_bias\n",
        "    \n",
        "    return tf.nn.sigmoid(x)"
      ],
      "metadata": {
        "id": "1L_NcNMx6Oxl"
      },
      "execution_count": 21,
      "outputs": []
    },
    {
      "cell_type": "code",
      "source": [
        "model = RecommenderNet(num_user, num_movie, 50)\n",
        " \n",
        "# model compile\n",
        "model.compile(\n",
        "    loss = tf.keras.losses.BinaryCrossentropy(),\n",
        "    optimizer = keras.optimizers.Adam(learning_rate=0.001),\n",
        "    metrics=[tf.keras.metrics.RootMeanSquaredError()]\n",
        ")"
      ],
      "metadata": {
        "id": "ZVDYioen9JLH"
      },
      "execution_count": 22,
      "outputs": []
    },
    {
      "cell_type": "code",
      "source": [
        "history = model.fit(\n",
        "    x = X_train,\n",
        "    y = Y_train,\n",
        "    batch_size = 80,\n",
        "    epochs = 50,\n",
        "    validation_data = (X_test, Y_test)\n",
        ")"
      ],
      "metadata": {
        "colab": {
          "base_uri": "https://localhost:8080/"
        },
        "id": "K2GTFg8w_-1w",
        "outputId": "c5685732-fd8e-4535-def8-a63deb28ef24"
      },
      "execution_count": 23,
      "outputs": [
        {
          "output_type": "stream",
          "name": "stdout",
          "text": [
            "Epoch 1/50\n",
            "1186/1186 [==============================] - 18s 12ms/step - loss: 0.6334 - root_mean_squared_error: 0.2323 - val_loss: 0.6137 - val_root_mean_squared_error: 0.2121\n",
            "Epoch 2/50\n",
            "1186/1186 [==============================] - 14s 12ms/step - loss: 0.6110 - root_mean_squared_error: 0.2089 - val_loss: 0.6108 - val_root_mean_squared_error: 0.2087\n",
            "Epoch 3/50\n",
            "1186/1186 [==============================] - 14s 12ms/step - loss: 0.6067 - root_mean_squared_error: 0.2043 - val_loss: 0.6058 - val_root_mean_squared_error: 0.2037\n",
            "Epoch 4/50\n",
            "1186/1186 [==============================] - 14s 12ms/step - loss: 0.6053 - root_mean_squared_error: 0.2027 - val_loss: 0.6053 - val_root_mean_squared_error: 0.2032\n",
            "Epoch 5/50\n",
            "1186/1186 [==============================] - 14s 12ms/step - loss: 0.6067 - root_mean_squared_error: 0.2037 - val_loss: 0.6033 - val_root_mean_squared_error: 0.2008\n",
            "Epoch 6/50\n",
            "1186/1186 [==============================] - 19s 16ms/step - loss: 0.6062 - root_mean_squared_error: 0.2030 - val_loss: 0.6051 - val_root_mean_squared_error: 0.2028\n",
            "Epoch 7/50\n",
            "1186/1186 [==============================] - 19s 16ms/step - loss: 0.6061 - root_mean_squared_error: 0.2027 - val_loss: 0.6039 - val_root_mean_squared_error: 0.2014\n",
            "Epoch 8/50\n",
            "1186/1186 [==============================] - 14s 12ms/step - loss: 0.6059 - root_mean_squared_error: 0.2022 - val_loss: 0.6039 - val_root_mean_squared_error: 0.2014\n",
            "Epoch 9/50\n",
            "1186/1186 [==============================] - 14s 12ms/step - loss: 0.6053 - root_mean_squared_error: 0.2012 - val_loss: 0.6051 - val_root_mean_squared_error: 0.2026\n",
            "Epoch 10/50\n",
            "1186/1186 [==============================] - 14s 12ms/step - loss: 0.6059 - root_mean_squared_error: 0.2016 - val_loss: 0.6039 - val_root_mean_squared_error: 0.2010\n",
            "Epoch 11/50\n",
            "1186/1186 [==============================] - 14s 12ms/step - loss: 0.6045 - root_mean_squared_error: 0.1999 - val_loss: 0.6070 - val_root_mean_squared_error: 0.2044\n",
            "Epoch 12/50\n",
            "1186/1186 [==============================] - 14s 12ms/step - loss: 0.6053 - root_mean_squared_error: 0.2005 - val_loss: 0.6073 - val_root_mean_squared_error: 0.2046\n",
            "Epoch 13/50\n",
            "1186/1186 [==============================] - 15s 13ms/step - loss: 0.6052 - root_mean_squared_error: 0.2001 - val_loss: 0.6051 - val_root_mean_squared_error: 0.2019\n",
            "Epoch 14/50\n",
            "1186/1186 [==============================] - 14s 12ms/step - loss: 0.6055 - root_mean_squared_error: 0.2003 - val_loss: 0.6031 - val_root_mean_squared_error: 0.1995\n",
            "Epoch 15/50\n",
            "1186/1186 [==============================] - 14s 12ms/step - loss: 0.6047 - root_mean_squared_error: 0.1993 - val_loss: 0.6033 - val_root_mean_squared_error: 0.1996\n",
            "Epoch 16/50\n",
            "1186/1186 [==============================] - 14s 12ms/step - loss: 0.6056 - root_mean_squared_error: 0.1999 - val_loss: 0.6044 - val_root_mean_squared_error: 0.2007\n",
            "Epoch 17/50\n",
            "1186/1186 [==============================] - 14s 12ms/step - loss: 0.6054 - root_mean_squared_error: 0.1996 - val_loss: 0.6050 - val_root_mean_squared_error: 0.2013\n",
            "Epoch 18/50\n",
            "1186/1186 [==============================] - 14s 12ms/step - loss: 0.6049 - root_mean_squared_error: 0.1987 - val_loss: 0.6043 - val_root_mean_squared_error: 0.2003\n",
            "Epoch 19/50\n",
            "1186/1186 [==============================] - 14s 12ms/step - loss: 0.6056 - root_mean_squared_error: 0.1994 - val_loss: 0.6067 - val_root_mean_squared_error: 0.2030\n",
            "Epoch 20/50\n",
            "1186/1186 [==============================] - 14s 12ms/step - loss: 0.6067 - root_mean_squared_error: 0.2006 - val_loss: 0.6080 - val_root_mean_squared_error: 0.2042\n",
            "Epoch 21/50\n",
            "1186/1186 [==============================] - 14s 12ms/step - loss: 0.6063 - root_mean_squared_error: 0.1997 - val_loss: 0.6088 - val_root_mean_squared_error: 0.2048\n",
            "Epoch 22/50\n",
            "1186/1186 [==============================] - 14s 12ms/step - loss: 0.6060 - root_mean_squared_error: 0.1995 - val_loss: 0.6060 - val_root_mean_squared_error: 0.2017\n",
            "Epoch 23/50\n",
            "1186/1186 [==============================] - 14s 12ms/step - loss: 0.6071 - root_mean_squared_error: 0.2005 - val_loss: 0.6090 - val_root_mean_squared_error: 0.2048\n",
            "Epoch 24/50\n",
            "1186/1186 [==============================] - 14s 12ms/step - loss: 0.6075 - root_mean_squared_error: 0.2009 - val_loss: 0.6110 - val_root_mean_squared_error: 0.2068\n",
            "Epoch 25/50\n",
            "1186/1186 [==============================] - 14s 12ms/step - loss: 0.6057 - root_mean_squared_error: 0.1987 - val_loss: 0.6104 - val_root_mean_squared_error: 0.2063\n",
            "Epoch 26/50\n",
            "1186/1186 [==============================] - 14s 12ms/step - loss: 0.6069 - root_mean_squared_error: 0.2000 - val_loss: 0.6130 - val_root_mean_squared_error: 0.2090\n",
            "Epoch 27/50\n",
            "1186/1186 [==============================] - 14s 12ms/step - loss: 0.6080 - root_mean_squared_error: 0.2008 - val_loss: 0.6105 - val_root_mean_squared_error: 0.2062\n",
            "Epoch 28/50\n",
            "1186/1186 [==============================] - 14s 12ms/step - loss: 0.6086 - root_mean_squared_error: 0.2011 - val_loss: 0.6126 - val_root_mean_squared_error: 0.2083\n",
            "Epoch 29/50\n",
            "1186/1186 [==============================] - 14s 12ms/step - loss: 0.6074 - root_mean_squared_error: 0.2000 - val_loss: 0.6112 - val_root_mean_squared_error: 0.2068\n",
            "Epoch 30/50\n",
            "1186/1186 [==============================] - 14s 12ms/step - loss: 0.6079 - root_mean_squared_error: 0.2005 - val_loss: 0.6095 - val_root_mean_squared_error: 0.2046\n",
            "Epoch 31/50\n",
            "1186/1186 [==============================] - 14s 12ms/step - loss: 0.6097 - root_mean_squared_error: 0.2018 - val_loss: 0.6101 - val_root_mean_squared_error: 0.2053\n",
            "Epoch 32/50\n",
            "1186/1186 [==============================] - 14s 12ms/step - loss: 0.6084 - root_mean_squared_error: 0.2007 - val_loss: 0.6091 - val_root_mean_squared_error: 0.2044\n",
            "Epoch 33/50\n",
            "1186/1186 [==============================] - 14s 12ms/step - loss: 0.6082 - root_mean_squared_error: 0.2007 - val_loss: 0.6078 - val_root_mean_squared_error: 0.2025\n",
            "Epoch 34/50\n",
            "1186/1186 [==============================] - 14s 12ms/step - loss: 0.6096 - root_mean_squared_error: 0.2014 - val_loss: 0.6119 - val_root_mean_squared_error: 0.2074\n",
            "Epoch 35/50\n",
            "1186/1186 [==============================] - 14s 12ms/step - loss: 0.6073 - root_mean_squared_error: 0.1996 - val_loss: 0.6124 - val_root_mean_squared_error: 0.2073\n",
            "Epoch 36/50\n",
            "1186/1186 [==============================] - 14s 12ms/step - loss: 0.6080 - root_mean_squared_error: 0.1998 - val_loss: 0.6124 - val_root_mean_squared_error: 0.2074\n",
            "Epoch 37/50\n",
            "1186/1186 [==============================] - 14s 12ms/step - loss: 0.6077 - root_mean_squared_error: 0.1995 - val_loss: 0.6129 - val_root_mean_squared_error: 0.2076\n",
            "Epoch 38/50\n",
            "1186/1186 [==============================] - 14s 12ms/step - loss: 0.6097 - root_mean_squared_error: 0.2012 - val_loss: 0.6137 - val_root_mean_squared_error: 0.2084\n",
            "Epoch 39/50\n",
            "1186/1186 [==============================] - 14s 12ms/step - loss: 0.6112 - root_mean_squared_error: 0.2026 - val_loss: 0.6105 - val_root_mean_squared_error: 0.2053\n",
            "Epoch 40/50\n",
            "1186/1186 [==============================] - 14s 12ms/step - loss: 0.6098 - root_mean_squared_error: 0.2015 - val_loss: 0.6087 - val_root_mean_squared_error: 0.2032\n",
            "Epoch 41/50\n",
            "1186/1186 [==============================] - 14s 12ms/step - loss: 0.6094 - root_mean_squared_error: 0.2009 - val_loss: 0.6113 - val_root_mean_squared_error: 0.2060\n",
            "Epoch 42/50\n",
            "1186/1186 [==============================] - 14s 12ms/step - loss: 0.6099 - root_mean_squared_error: 0.2016 - val_loss: 0.6133 - val_root_mean_squared_error: 0.2079\n",
            "Epoch 43/50\n",
            "1186/1186 [==============================] - 14s 12ms/step - loss: 0.6095 - root_mean_squared_error: 0.2008 - val_loss: 0.6132 - val_root_mean_squared_error: 0.2077\n",
            "Epoch 44/50\n",
            "1186/1186 [==============================] - 14s 12ms/step - loss: 0.6084 - root_mean_squared_error: 0.1997 - val_loss: 0.6106 - val_root_mean_squared_error: 0.2048\n",
            "Epoch 45/50\n",
            "1186/1186 [==============================] - 14s 12ms/step - loss: 0.6082 - root_mean_squared_error: 0.1995 - val_loss: 0.6116 - val_root_mean_squared_error: 0.2057\n",
            "Epoch 46/50\n",
            "1186/1186 [==============================] - 14s 11ms/step - loss: 0.6123 - root_mean_squared_error: 0.2035 - val_loss: 0.6114 - val_root_mean_squared_error: 0.2056\n",
            "Epoch 47/50\n",
            "1186/1186 [==============================] - 14s 12ms/step - loss: 0.6105 - root_mean_squared_error: 0.2019 - val_loss: 0.6139 - val_root_mean_squared_error: 0.2082\n",
            "Epoch 48/50\n",
            "1186/1186 [==============================] - 14s 12ms/step - loss: 0.6099 - root_mean_squared_error: 0.2012 - val_loss: 0.6107 - val_root_mean_squared_error: 0.2049\n",
            "Epoch 49/50\n",
            "1186/1186 [==============================] - 14s 12ms/step - loss: 0.6128 - root_mean_squared_error: 0.2036 - val_loss: 0.6138 - val_root_mean_squared_error: 0.2076\n",
            "Epoch 50/50\n",
            "1186/1186 [==============================] - 14s 12ms/step - loss: 0.6112 - root_mean_squared_error: 0.2026 - val_loss: 0.6121 - val_root_mean_squared_error: 0.2055\n"
          ]
        }
      ]
    },
    {
      "cell_type": "markdown",
      "source": [
        "### Evaluation"
      ],
      "metadata": {
        "id": "7YZVv8EsaHT8"
      }
    },
    {
      "cell_type": "markdown",
      "source": [
        "#### Loss"
      ],
      "metadata": {
        "id": "95YWjJcBM--Q"
      }
    },
    {
      "cell_type": "code",
      "source": [
        "plt.plot(history.history['loss'])\n",
        "plt.plot(history.history['val_loss'])\n",
        "plt.title('model_loss')\n",
        "plt.ylabel('Loss')\n",
        "plt.xlabel('epoch')\n",
        "plt.legend(['train', 'test'], loc='upper left')\n",
        "plt.show()"
      ],
      "metadata": {
        "colab": {
          "base_uri": "https://localhost:8080/",
          "height": 295
        },
        "id": "U4RdBv0cFrCG",
        "outputId": "fd3d8804-c695-4572-c4df-c80978a64e02"
      },
      "execution_count": 24,
      "outputs": [
        {
          "output_type": "display_data",
          "data": {
            "text/plain": [
              "<Figure size 432x288 with 1 Axes>"
            ],
            "image/png": "[encoded data removed]"
          },
          "metadata": {
            "needs_background": "light"
          }
        }
      ]
    },
    {
      "cell_type": "markdown",
      "source": [
        "#### plot Metric"
      ],
      "metadata": {
        "id": "4pvpsFo6NCo3"
      }
    },
    {
      "cell_type": "code",
      "source": [
        "plt.plot(history.history['root_mean_squared_error'])\n",
        "plt.plot(history.history['val_root_mean_squared_error'])\n",
        "plt.title('model_metric')\n",
        "plt.ylabel('RSME')\n",
        "plt.xlabel('epoch')\n",
        "plt.legend(['train', 'test'], loc='upper left')\n",
        "plt.show()"
      ],
      "metadata": {
        "colab": {
          "base_uri": "https://localhost:8080/",
          "height": 295
        },
        "id": "Pn6UK4wRNK22",
        "outputId": "ed452fce-29e2-486f-e9bf-abf87484474d"
      },
      "execution_count": 25,
      "outputs": [
        {
          "output_type": "display_data",
          "data": {
            "text/plain": [
              "<Figure size 432x288 with 1 Axes>"
            ],
            "image/png": "[encoded data removed]"
          },
          "metadata": {
            "needs_background": "light"
          }
        }
      ]
    },
    {
      "cell_type": "markdown",
      "source": [
        "### Result"
      ],
      "metadata": {
        "id": "qT1T8xzRHB3U"
      }
    },
    {
      "cell_type": "markdown",
      "source": [
        "memilih user secara random"
      ],
      "metadata": {
        "id": "yWdlTj8kcoFf"
      }
    },
    {
      "cell_type": "code",
      "source": [
        "selectedUser = np.random.randint(0,num_user)"
      ],
      "metadata": {
        "id": "VJ9vM-97G-Wh"
      },
      "execution_count": 26,
      "outputs": []
    },
    {
      "cell_type": "code",
      "source": [
        "selectedUserDf = X_train.copy()"
      ],
      "metadata": {
        "id": "YW2h2VpbHQds"
      },
      "execution_count": 27,
      "outputs": []
    },
    {
      "cell_type": "code",
      "source": [
        "selectedUserDf = selectedUserDf[selectedUserDf['userId']==selectedUser]"
      ],
      "metadata": {
        "id": "e_gV67bXHpRS"
      },
      "execution_count": 28,
      "outputs": []
    },
    {
      "cell_type": "markdown",
      "source": [
        "melihat film yang telah ditonton oleh pengguna yang terpilih"
      ],
      "metadata": {
        "id": "jG_e9jBPcqco"
      }
    },
    {
      "cell_type": "code",
      "source": [
        "selectedUserDf"
      ],
      "metadata": {
        "colab": {
          "base_uri": "https://localhost:8080/",
          "height": 739
        },
        "id": "n3ZgR7S4Hu_X",
        "outputId": "31562469-f9d3-487a-e5fa-ae4ba8777928"
      },
      "execution_count": 29,
      "outputs": [
        {
          "output_type": "execute_result",
          "data": {
            "text/plain": [
              "       userId  movieId\n",
              "82337     570        2\n",
              "82349     570      735\n",
              "82341     570       31\n",
              "82345     570       94\n",
              "82343     570       51\n",
              "82339     570       16\n",
              "82342     570       35\n",
              "82351     570      779\n",
              "82360     570     1356\n",
              "82348     570      707\n",
              "82346     570      259\n",
              "82352     570      785\n",
              "82354     570      838\n",
              "82338     570        5\n",
              "82356     570     1072\n",
              "82340     570       24\n",
              "82358     570     1209\n",
              "82353     570      798\n",
              "82355     570      857\n",
              "82359     570     1355\n",
              "82336     570        0\n",
              "82357     570     1182"
            ],
            "text/html": [
              "\n",
              "  <div id=\"df-fc231507-d18f-4f46-9135-85bd26451be8\">\n",
              "    <div class=\"colab-df-container\">\n",
              "      <div>\n",
              "<style scoped>\n",
              "    .dataframe tbody tr th:only-of-type {\n",
              "        vertical-align: middle;\n",
              "    }\n",
              "\n",
              "    .dataframe tbody tr th {\n",
              "        vertical-align: top;\n",
              "    }\n",
              "\n",
              "    .dataframe thead th {\n",
              "        text-align: right;\n",
              "    }\n",
              "</style>\n",
              "<table border=\"1\" class=\"dataframe\">\n",
              "  <thead>\n",
              "    <tr style=\"text-align: right;\">\n",
              "      <th></th>\n",
              "      <th>userId</th>\n",
              "      <th>movieId</th>\n",
              "    </tr>\n",
              "  </thead>\n",
              "  <tbody>\n",
              "    <tr>\n",
              "      <th>82337</th>\n",
              "      <td>570</td>\n",
              "      <td>2</td>\n",
              "    </tr>\n",
              "    <tr>\n",
              "      <th>82349</th>\n",
              "      <td>570</td>\n",
              "      <td>735</td>\n",
              "    </tr>\n",
              "    <tr>\n",
              "      <th>82341</th>\n",
              "      <td>570</td>\n",
              "      <td>31</td>\n",
              "    </tr>\n",
              "    <tr>\n",
              "      <th>82345</th>\n",
              "      <td>570</td>\n",
              "      <td>94</td>\n",
              "    </tr>\n",
              "    <tr>\n",
              "      <th>82343</th>\n",
              "      <td>570</td>\n",
              "      <td>51</td>\n",
              "    </tr>\n",
              "    <tr>\n",
              "      <th>82339</th>\n",
              "      <td>570</td>\n",
              "      <td>16</td>\n",
              "    </tr>\n",
              "    <tr>\n",
              "      <th>82342</th>\n",
              "      <td>570</td>\n",
              "      <td>35</td>\n",
              "    </tr>\n",
              "    <tr>\n",
              "      <th>82351</th>\n",
              "      <td>570</td>\n",
              "      <td>779</td>\n",
              "    </tr>\n",
              "    <tr>\n",
              "      <th>82360</th>\n",
              "      <td>570</td>\n",
              "      <td>1356</td>\n",
              "    </tr>\n",
              "    <tr>\n",
              "      <th>82348</th>\n",
              "      <td>570</td>\n",
              "      <td>707</td>\n",
              "    </tr>\n",
              "    <tr>\n",
              "      <th>82346</th>\n",
              "      <td>570</td>\n",
              "      <td>259</td>\n",
              "    </tr>\n",
              "    <tr>\n",
              "      <th>82352</th>\n",
              "      <td>570</td>\n",
              "      <td>785</td>\n",
              "    </tr>\n",
              "    <tr>\n",
              "      <th>82354</th>\n",
              "      <td>570</td>\n",
              "      <td>838</td>\n",
              "    </tr>\n",
              "    <tr>\n",
              "      <th>82338</th>\n",
              "      <td>570</td>\n",
              "      <td>5</td>\n",
              "    </tr>\n",
              "    <tr>\n",
              "      <th>82356</th>\n",
              "      <td>570</td>\n",
              "      <td>1072</td>\n",
              "    </tr>\n",
              "    <tr>\n",
              "      <th>82340</th>\n",
              "      <td>570</td>\n",
              "      <td>24</td>\n",
              "    </tr>\n",
              "    <tr>\n",
              "      <th>82358</th>\n",
              "      <td>570</td>\n",
              "      <td>1209</td>\n",
              "    </tr>\n",
              "    <tr>\n",
              "      <th>82353</th>\n",
              "      <td>570</td>\n",
              "      <td>798</td>\n",
              "    </tr>\n",
              "    <tr>\n",
              "      <th>82355</th>\n",
              "      <td>570</td>\n",
              "      <td>857</td>\n",
              "    </tr>\n",
              "    <tr>\n",
              "      <th>82359</th>\n",
              "      <td>570</td>\n",
              "      <td>1355</td>\n",
              "    </tr>\n",
              "    <tr>\n",
              "      <th>82336</th>\n",
              "      <td>570</td>\n",
              "      <td>0</td>\n",
              "    </tr>\n",
              "    <tr>\n",
              "      <th>82357</th>\n",
              "      <td>570</td>\n",
              "      <td>1182</td>\n",
              "    </tr>\n",
              "  </tbody>\n",
              "</table>\n",
              "</div>\n",
              "      <button class=\"colab-df-convert\" onclick=\"convertToInteractive('df-fc231507-d18f-4f46-9135-85bd26451be8')\"\n",
              "              title=\"Convert this dataframe to an interactive table.\"\n",
              "              style=\"display:none;\">\n",
              "        \n",
              "  <svg xmlns=\"http://www.w3.org/2000/svg\" height=\"24px\"viewBox=\"0 0 24 24\"\n",
              "       width=\"24px\">\n",
              "    <path d=\"M0 0h24v24H0V0z\" fill=\"none\"/>\n",
              "    <path d=\"M18.56 5.44l.94 2.06.94-2.06 2.06-.94-2.06-.94-.94-2.06-.94 2.06-2.06.94zm-11 1L8.5 8.5l.94-2.06 2.06-.94-2.06-.94L8.5 2.5l-.94 2.06-2.06.94zm10 10l.94 2.06.94-2.06 2.06-.94-2.06-.94-.94-2.06-.94 2.06-2.06.94z\"/><path d=\"M17.41 7.96l-1.37-1.37c-.4-.4-.92-.59-1.43-.59-.52 0-1.04.2-1.43.59L10.3 9.45l-7.72 7.72c-.78.78-.78 2.05 0 2.83L4 21.41c.39.39.9.59 1.41.59.51 0 1.02-.2 1.41-.59l7.78-7.78 2.81-2.81c.8-.78.8-2.07 0-2.86zM5.41 20L4 18.59l7.72-7.72 1.47 1.35L5.41 20z\"/>\n",
              "  </svg>\n",
              "      </button>\n",
              "      \n",
              "  <style>\n",
              "    .colab-df-container {\n",
              "      display:flex;\n",
              "      flex-wrap:wrap;\n",
              "      gap: 12px;\n",
              "    }\n",
              "\n",
              "    .colab-df-convert {\n",
              "      background-color: #E8F0FE;\n",
              "      border: none;\n",
              "      border-radius: 50%;\n",
              "      cursor: pointer;\n",
              "      display: none;\n",
              "      fill: #1967D2;\n",
              "      height: 32px;\n",
              "      padding: 0 0 0 0;\n",
              "      width: 32px;\n",
              "    }\n",
              "\n",
              "    .colab-df-convert:hover {\n",
              "      background-color: #E2EBFA;\n",
              "      box-shadow: 0px 1px 2px rgba(60, 64, 67, 0.3), 0px 1px 3px 1px rgba(60, 64, 67, 0.15);\n",
              "      fill: #174EA6;\n",
              "    }\n",
              "\n",
              "    [theme=dark] .colab-df-convert {\n",
              "      background-color: #3B4455;\n",
              "      fill: #D2E3FC;\n",
              "    }\n",
              "\n",
              "    [theme=dark] .colab-df-convert:hover {\n",
              "      background-color: #434B5C;\n",
              "      box-shadow: 0px 1px 3px 1px rgba(0, 0, 0, 0.15);\n",
              "      filter: drop-shadow(0px 1px 2px rgba(0, 0, 0, 0.3));\n",
              "      fill: #FFFFFF;\n",
              "    }\n",
              "  </style>\n",
              "\n",
              "      <script>\n",
              "        const buttonEl =\n",
              "          document.querySelector('#df-fc231507-d18f-4f46-9135-85bd26451be8 button.colab-df-convert');\n",
              "        buttonEl.style.display =\n",
              "          google.colab.kernel.accessAllowed ? 'block' : 'none';\n",
              "\n",
              "        async function convertToInteractive(key) {\n",
              "          const element = document.querySelector('#df-fc231507-d18f-4f46-9135-85bd26451be8');\n",
              "          const dataTable =\n",
              "            await google.colab.kernel.invokeFunction('convertToInteractive',\n",
              "                                                     [key], {});\n",
              "          if (!dataTable) return;\n",
              "\n",
              "          const docLinkHtml = 'Like what you see? Visit the ' +\n",
              "            '<a target=\"_blank\" href=https://colab.research.google.com/notebooks/data_table.ipynb>data table notebook</a>'\n",
              "            + ' to learn more about interactive tables.';\n",
              "          element.innerHTML = '';\n",
              "          dataTable['output_type'] = 'display_data';\n",
              "          await google.colab.output.renderOutput(dataTable, element);\n",
              "          const docLink = document.createElement('div');\n",
              "          docLink.innerHTML = docLinkHtml;\n",
              "          element.appendChild(docLink);\n",
              "        }\n",
              "      </script>\n",
              "    </div>\n",
              "  </div>\n",
              "  "
            ]
          },
          "metadata": {},
          "execution_count": 29
        }
      ]
    },
    {
      "cell_type": "code",
      "source": [
        "movieIdforSelectedUser = selectedUserDf['movieId'].unique()"
      ],
      "metadata": {
        "id": "azBdEvFKIAhE"
      },
      "execution_count": 30,
      "outputs": []
    },
    {
      "cell_type": "code",
      "source": [
        "movieIdforSelectedUser"
      ],
      "metadata": {
        "colab": {
          "base_uri": "https://localhost:8080/"
        },
        "id": "OJIrCWHEII3H",
        "outputId": "f37cf970-b783-4945-9e0d-329b3bbed4e7"
      },
      "execution_count": 31,
      "outputs": [
        {
          "output_type": "execute_result",
          "data": {
            "text/plain": [
              "array([   2,  735,   31,   94,   51,   16,   35,  779, 1356,  707,  259,\n",
              "        785,  838,    5, 1072,   24, 1209,  798,  857, 1355,    0, 1182])"
            ]
          },
          "metadata": {},
          "execution_count": 31
        }
      ]
    },
    {
      "cell_type": "code",
      "source": [
        "idMovieAll = dataSiap.movieId.unique()"
      ],
      "metadata": {
        "id": "r052ZCkZIJct"
      },
      "execution_count": 32,
      "outputs": []
    },
    {
      "cell_type": "code",
      "source": [
        "idMovieAll.shape"
      ],
      "metadata": {
        "colab": {
          "base_uri": "https://localhost:8080/"
        },
        "id": "_uQ2LmdeJH92",
        "outputId": "f72e29e0-d977-45a1-9c78-54eb7cf66d77"
      },
      "execution_count": 33,
      "outputs": [
        {
          "output_type": "execute_result",
          "data": {
            "text/plain": [
              "(10325,)"
            ]
          },
          "metadata": {},
          "execution_count": 33
        }
      ]
    },
    {
      "cell_type": "markdown",
      "source": [
        "membuang film yang telah ditonton pengguna sehingga yang akan dipredict hanya yang belum"
      ],
      "metadata": {
        "id": "fQBs7rCGcvl4"
      }
    },
    {
      "cell_type": "code",
      "source": [
        "tesMovie = list(set(idMovieAll) - set(movieIdforSelectedUser))"
      ],
      "metadata": {
        "id": "z390WNT_IPL4"
      },
      "execution_count": 34,
      "outputs": []
    },
    {
      "cell_type": "code",
      "source": [
        "testMatrix = [[selectedUser,i] for i in tesMovie]"
      ],
      "metadata": {
        "id": "814H662NJQdc"
      },
      "execution_count": 35,
      "outputs": []
    },
    {
      "cell_type": "code",
      "source": [
        "testMatrix = np.array(testMatrix)"
      ],
      "metadata": {
        "id": "rBiU7uuxJXz7"
      },
      "execution_count": 36,
      "outputs": []
    },
    {
      "cell_type": "code",
      "source": [
        "testPredict = model.predict(testMatrix)"
      ],
      "metadata": {
        "id": "RlPth4CVJcRN"
      },
      "execution_count": 37,
      "outputs": []
    },
    {
      "cell_type": "code",
      "source": [
        "testPredict"
      ],
      "metadata": {
        "colab": {
          "base_uri": "https://localhost:8080/"
        },
        "id": "6s7gMQH3JfRX",
        "outputId": "032d9e7c-1089-4063-bf88-726ce71fd8d5"
      },
      "execution_count": 38,
      "outputs": [
        {
          "output_type": "execute_result",
          "data": {
            "text/plain": [
              "array([[0.5444175 ],\n",
              "       [0.3795092 ],\n",
              "       [0.50239533],\n",
              "       ...,\n",
              "       [0.6300652 ],\n",
              "       [0.6973791 ],\n",
              "       [0.77956575]], dtype=float32)"
            ]
          },
          "metadata": {},
          "execution_count": 38
        }
      ]
    },
    {
      "cell_type": "code",
      "source": [
        "testMatrix"
      ],
      "metadata": {
        "colab": {
          "base_uri": "https://localhost:8080/"
        },
        "id": "z3I9Yqj-JzlG",
        "outputId": "bf7ba22a-d7e7-4ed8-b400-82323dc18a3a"
      },
      "execution_count": 39,
      "outputs": [
        {
          "output_type": "execute_result",
          "data": {
            "text/plain": [
              "array([[  570,     1],\n",
              "       [  570,     3],\n",
              "       [  570,     4],\n",
              "       ...,\n",
              "       [  570, 98289],\n",
              "       [  570, 98295],\n",
              "       [  570, 98303]])"
            ]
          },
          "metadata": {},
          "execution_count": 39
        }
      ]
    },
    {
      "cell_type": "markdown",
      "source": [
        "mengurutkan nilai prediksi dari yang terbesar, dikarenakan nilai terbesar adalah nilai yang memungkinkan untuk film yang akan disukai pengguna"
      ],
      "metadata": {
        "id": "DIH9Qt8Zc2OG"
      }
    },
    {
      "cell_type": "code",
      "source": [
        "testPredict = np.argsort(np.squeeze(testPredict))[::-1]"
      ],
      "metadata": {
        "id": "7H3rXCHBJjFM"
      },
      "execution_count": 40,
      "outputs": []
    },
    {
      "cell_type": "code",
      "source": [
        "movieRecom = testMatrix[testPredict[:10]]"
      ],
      "metadata": {
        "id": "m9yAfRo9Jv8A"
      },
      "execution_count": 41,
      "outputs": []
    },
    {
      "cell_type": "code",
      "source": [
        "movieLike = dataSiap[dataSiap['userId']==533].sort_values(by='rating',ascending=False).head(10)['movieId']"
      ],
      "metadata": {
        "id": "XFWHrKAtYxZQ"
      },
      "execution_count": 42,
      "outputs": []
    },
    {
      "cell_type": "code",
      "source": [
        "print(\"TOP 10 dengan rating tertinggi\")\n",
        "for i in movieLike:\n",
        "  print('{}'.format(movie[movie['movieId']==i+1]['title'].values[0]))"
      ],
      "metadata": {
        "colab": {
          "base_uri": "https://localhost:8080/"
        },
        "id": "vUWvDLIkZGa1",
        "outputId": "bb4ec123-e6e3-4587-b827-746d2a54d0c3"
      },
      "execution_count": 43,
      "outputs": [
        {
          "output_type": "stream",
          "name": "stdout",
          "text": [
            "TOP 10 dengan rating tertinggi\n",
            "Boot, Das (Boat, The) (1981)\n",
            "Reservoir Dogs (1992)\n",
            "Star Wars: Episode VI - Return of the Jedi (1983)\n",
            "Pulp Fiction (1994)\n",
            "Femme Nikita, La (Nikita) (1990)\n",
            "Groundhog Day (1993)\n",
            "Shawshank Redemption, The (1994)\n",
            "Donnie Brasco (1997)\n",
            "Forrest Gump (1994)\n",
            "Sleepers (1996)\n"
          ]
        }
      ]
    },
    {
      "cell_type": "code",
      "source": [
        "print(\"TOP 10 of reccomendation movie\")\n",
        "for i in movieRecom:\n",
        "  print('{}'.format(movie[movie['movieId']==i[1]+1]['title'].values[0]))"
      ],
      "metadata": {
        "colab": {
          "base_uri": "https://localhost:8080/"
        },
        "id": "7wBos5mwKNwg",
        "outputId": "1d1119f8-60d7-4a44-a6df-931621975c74"
      },
      "execution_count": 44,
      "outputs": [
        {
          "output_type": "stream",
          "name": "stdout",
          "text": [
            "TOP 10 of reccomendation movie\n",
            "42 Up (1998)\n",
            "Mansfield Park (1999)\n",
            "Black Mirror (2011)\n",
            "Ruby Sparks (2012)\n",
            "Bicycle Thieves (a.k.a. The Bicycle Thief) (a.k.a. The Bicycle Thieves) (Ladri di biciclette) (1948)\n",
            "Wild Tales (2014)\n",
            "Fireworks (Hana-bi) (1997)\n",
            "South Park: Imaginationland (2008)\n",
            "Interstate 60 (2002)\n",
            "Grapes of Wrath, The (1940)\n"
          ]
        }
      ]
    }
  ]
}